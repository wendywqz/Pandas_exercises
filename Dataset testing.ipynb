{
  "nbformat": 4,
  "nbformat_minor": 0,
  "metadata": {
    "colab": {
      "provenance": [],
      "authorship_tag": "ABX9TyMXFwNoEZAdnXU2r1sb/uL9",
      "include_colab_link": true
    },
    "kernelspec": {
      "name": "python3",
      "display_name": "Python 3"
    },
    "language_info": {
      "name": "python"
    }
  },
  "cells": [
    {
      "cell_type": "markdown",
      "metadata": {
        "id": "view-in-github",
        "colab_type": "text"
      },
      "source": [
        "<a href=\"https://colab.research.google.com/github/wendywqz/Pandas_exercises/blob/main/Dataset%20testing.ipynb\" target=\"_parent\"><img src=\"https://colab.research.google.com/assets/colab-badge.svg\" alt=\"Open In Colab\"/></a>"
      ]
    },
    {
      "cell_type": "code",
      "execution_count": 1,
      "metadata": {
        "id": "YZWTvKrMN693"
      },
      "outputs": [],
      "source": [
        "import io\n",
        "import numpy as np\n",
        "import pandas as pd\n",
        "import keras\n",
        "import plotly.express as px\n",
        "from plotly.subplots import make_subplots\n",
        "import plotly.graph_objects as go\n",
        "import seaborn as sns\n"
      ]
    },
    {
      "cell_type": "code",
      "source": [
        "chicago_taxi_dataset = pd.read_csv(\"https://download.mlcc.google.com/mledu-datasets/chicago_taxi_train.csv\")"
      ],
      "metadata": {
        "id": "90GSZyd3SrNs"
      },
      "execution_count": 2,
      "outputs": []
    },
    {
      "cell_type": "code",
      "source": [
        "df=pd.read_csv(\"https://download.mlcc.google.com/mledu-datasets/chicago_taxi_train.csv\")\n",
        "print(df.head())"
      ],
      "metadata": {
        "colab": {
          "base_uri": "https://localhost:8080/"
        },
        "id": "i6yGmH2fSs-h",
        "outputId": "17932ed1-76a1-4627-dfcd-c1a9e0339450"
      },
      "execution_count": 4,
      "outputs": [
        {
          "output_type": "stream",
          "name": "stdout",
          "text": [
            "    TRIP_START_TIMESTAMP     TRIP_END_TIMESTAMP  TRIP_START_HOUR  \\\n",
            "0  05/17/2022 7:15:00 AM  05/17/2022 7:45:00 AM             7.25   \n",
            "1  05/17/2022 5:15:00 PM  05/17/2022 5:30:00 PM            17.25   \n",
            "2  05/17/2022 5:15:00 PM  05/17/2022 5:30:00 PM            17.25   \n",
            "3  05/17/2022 6:00:00 PM  05/17/2022 7:00:00 PM            18.00   \n",
            "4  05/17/2022 5:00:00 PM  05/17/2022 5:30:00 PM            17.00   \n",
            "\n",
            "   TRIP_SECONDS  TRIP_MILES  TRIP_SPEED  PICKUP_CENSUS_TRACT  \\\n",
            "0          2341        2.57         4.0                  NaN   \n",
            "1          1074        1.18         4.0                  NaN   \n",
            "2          1173        1.29         4.0         1.703132e+10   \n",
            "3          3360        3.70         4.0         1.703132e+10   \n",
            "4          1044        1.15         4.0         1.703132e+10   \n",
            "\n",
            "   DROPOFF_CENSUS_TRACT  PICKUP_COMMUNITY_AREA  DROPOFF_COMMUNITY_AREA   FARE  \\\n",
            "0                   NaN                    NaN                    17.0  31.99   \n",
            "1          1.703108e+10                    NaN                     8.0   9.75   \n",
            "2          1.703108e+10                   32.0                     8.0  10.25   \n",
            "3          1.703124e+10                   32.0                    24.0  23.75   \n",
            "4          1.703108e+10                   32.0                     8.0  10.00   \n",
            "\n",
            "   TIPS  TIP_RATE  TOLLS  EXTRAS  TRIP_TOTAL PAYMENT_TYPE  \\\n",
            "0   2.0       6.3    0.0     0.0       33.99       Mobile   \n",
            "1   3.0      27.9    0.0     1.0       14.25  Credit Card   \n",
            "2   0.0       0.0    0.0     0.0       10.25         Cash   \n",
            "3   0.0       0.0    0.0     1.0       24.75         Cash   \n",
            "4   0.0       0.0    0.0     0.0       10.00         Cash   \n",
            "\n",
            "                   COMPANY  \n",
            "0                Flash Cab  \n",
            "1                Flash Cab  \n",
            "2                 Sun Taxi  \n",
            "3  Choice Taxi Association  \n",
            "4                Flash Cab  \n"
          ]
        }
      ]
    },
    {
      "cell_type": "code",
      "source": [
        "print(df.info())"
      ],
      "metadata": {
        "colab": {
          "base_uri": "https://localhost:8080/"
        },
        "id": "Fjk1YJ3lTiOr",
        "outputId": "4891fa08-3058-47ad-a82b-99d8b5c1513f"
      },
      "execution_count": 5,
      "outputs": [
        {
          "output_type": "stream",
          "name": "stdout",
          "text": [
            "<class 'pandas.core.frame.DataFrame'>\n",
            "RangeIndex: 31694 entries, 0 to 31693\n",
            "Data columns (total 18 columns):\n",
            " #   Column                  Non-Null Count  Dtype  \n",
            "---  ------                  --------------  -----  \n",
            " 0   TRIP_START_TIMESTAMP    31694 non-null  object \n",
            " 1   TRIP_END_TIMESTAMP      31694 non-null  object \n",
            " 2   TRIP_START_HOUR         31694 non-null  float64\n",
            " 3   TRIP_SECONDS            31694 non-null  int64  \n",
            " 4   TRIP_MILES              31694 non-null  float64\n",
            " 5   TRIP_SPEED              31694 non-null  float64\n",
            " 6   PICKUP_CENSUS_TRACT     13259 non-null  float64\n",
            " 7   DROPOFF_CENSUS_TRACT    14023 non-null  float64\n",
            " 8   PICKUP_COMMUNITY_AREA   28477 non-null  float64\n",
            " 9   DROPOFF_COMMUNITY_AREA  28199 non-null  float64\n",
            " 10  FARE                    31694 non-null  float64\n",
            " 11  TIPS                    31694 non-null  float64\n",
            " 12  TIP_RATE                31694 non-null  float64\n",
            " 13  TOLLS                   31694 non-null  float64\n",
            " 14  EXTRAS                  31694 non-null  float64\n",
            " 15  TRIP_TOTAL              31694 non-null  float64\n",
            " 16  PAYMENT_TYPE            31694 non-null  object \n",
            " 17  COMPANY                 31694 non-null  object \n",
            "dtypes: float64(13), int64(1), object(4)\n",
            "memory usage: 4.4+ MB\n",
            "None\n"
          ]
        }
      ]
    },
    {
      "cell_type": "code",
      "source": [
        "print(df.describe())"
      ],
      "metadata": {
        "colab": {
          "base_uri": "https://localhost:8080/"
        },
        "id": "UvnTfknSTp9T",
        "outputId": "e4629d82-f3b0-4cb9-f9d3-a78d2054b73e"
      },
      "execution_count": 6,
      "outputs": [
        {
          "output_type": "stream",
          "name": "stdout",
          "text": [
            "       TRIP_START_HOUR  TRIP_SECONDS    TRIP_MILES    TRIP_SPEED  \\\n",
            "count     31694.000000  31694.000000  31694.000000  31694.000000   \n",
            "mean         14.185635   1319.796397      8.289463     20.256544   \n",
            "std           5.159454    928.932873      7.265672     11.110390   \n",
            "min           0.000000     60.000000      0.500000      4.000000   \n",
            "25%          10.500000    548.000000      1.720000     11.000000   \n",
            "50%          14.750000   1081.000000      5.920000     17.600000   \n",
            "75%          18.000000   1888.000000     14.500000     27.500000   \n",
            "max          23.750000   7140.000000     68.120000     64.800000   \n",
            "\n",
            "       PICKUP_CENSUS_TRACT  DROPOFF_CENSUS_TRACT  PICKUP_COMMUNITY_AREA  \\\n",
            "count         1.325900e+04          1.402300e+04           28477.000000   \n",
            "mean          1.703153e+10          1.703140e+10              35.562138   \n",
            "std           3.827747e+05          3.408106e+05              26.421367   \n",
            "min           1.703102e+10          1.703101e+10               1.000000   \n",
            "25%           1.703108e+10          1.703108e+10               8.000000   \n",
            "50%           1.703132e+10          1.703132e+10              32.000000   \n",
            "75%           1.703198e+10          1.703184e+10              59.000000   \n",
            "max           1.703198e+10          1.703198e+10              77.000000   \n",
            "\n",
            "       DROPOFF_COMMUNITY_AREA          FARE          TIPS      TIP_RATE  \\\n",
            "count            28199.000000  31694.000000  31694.000000  31694.000000   \n",
            "mean                25.550410     23.905210      3.246130     12.965785   \n",
            "std                 20.349707     16.970022      4.284567     15.517765   \n",
            "min                  1.000000      3.250000      0.000000      0.000000   \n",
            "25%                  8.000000      9.000000      0.000000      0.000000   \n",
            "50%                 28.000000     18.750000      2.000000     12.200000   \n",
            "75%                 32.000000     38.750000      5.000000     20.800000   \n",
            "max                 77.000000    159.250000     60.000000    648.600000   \n",
            "\n",
            "              TOLLS        EXTRAS    TRIP_TOTAL  \n",
            "count  31694.000000  31694.000000  31694.000000  \n",
            "mean       0.002744      2.410468     29.755053  \n",
            "std        0.164343      5.805087     23.145537  \n",
            "min        0.000000      0.000000      3.250000  \n",
            "25%        0.000000      0.000000     10.750000  \n",
            "50%        0.000000      0.000000     21.700000  \n",
            "75%        0.000000      4.000000     48.265000  \n",
            "max       27.000000     85.000000    248.500000  \n"
          ]
        }
      ]
    },
    {
      "cell_type": "code",
      "source": [
        "column_data=df.columns\n",
        "print(column_data)"
      ],
      "metadata": {
        "colab": {
          "base_uri": "https://localhost:8080/"
        },
        "id": "83eHLnYRUGKD",
        "outputId": "d877e328-ff59-43c3-a50c-4d502966e2c6"
      },
      "execution_count": 7,
      "outputs": [
        {
          "output_type": "stream",
          "name": "stdout",
          "text": [
            "Index(['TRIP_START_TIMESTAMP', 'TRIP_END_TIMESTAMP', 'TRIP_START_HOUR',\n",
            "       'TRIP_SECONDS', 'TRIP_MILES', 'TRIP_SPEED', 'PICKUP_CENSUS_TRACT',\n",
            "       'DROPOFF_CENSUS_TRACT', 'PICKUP_COMMUNITY_AREA',\n",
            "       'DROPOFF_COMMUNITY_AREA', 'FARE', 'TIPS', 'TIP_RATE', 'TOLLS', 'EXTRAS',\n",
            "       'TRIP_TOTAL', 'PAYMENT_TYPE', 'COMPANY'],\n",
            "      dtype='object')\n"
          ]
        }
      ]
    },
    {
      "cell_type": "code",
      "source": [
        "column_data = df['FARE']\n",
        "print(column_data)"
      ],
      "metadata": {
        "colab": {
          "base_uri": "https://localhost:8080/"
        },
        "id": "TgUifuPNUNa0",
        "outputId": "7ed87bb8-93b6-4289-d216-3e49211c8fe5"
      },
      "execution_count": 9,
      "outputs": [
        {
          "output_type": "stream",
          "name": "stdout",
          "text": [
            "0        31.99\n",
            "1         9.75\n",
            "2        10.25\n",
            "3        23.75\n",
            "4        10.00\n",
            "         ...  \n",
            "31689    32.50\n",
            "31690    44.50\n",
            "31691    30.75\n",
            "31692    41.75\n",
            "31693    47.25\n",
            "Name: FARE, Length: 31694, dtype: float64\n"
          ]
        }
      ]
    },
    {
      "cell_type": "code",
      "source": [
        "row_data = df.iloc[0:3]\n",
        "print(row_data)"
      ],
      "metadata": {
        "colab": {
          "base_uri": "https://localhost:8080/"
        },
        "id": "H1fMm35cUcPA",
        "outputId": "5192c49d-0537-4a16-f274-53937f6bd3fa"
      },
      "execution_count": 11,
      "outputs": [
        {
          "output_type": "stream",
          "name": "stdout",
          "text": [
            "    TRIP_START_TIMESTAMP     TRIP_END_TIMESTAMP  TRIP_START_HOUR  \\\n",
            "0  05/17/2022 7:15:00 AM  05/17/2022 7:45:00 AM             7.25   \n",
            "1  05/17/2022 5:15:00 PM  05/17/2022 5:30:00 PM            17.25   \n",
            "2  05/17/2022 5:15:00 PM  05/17/2022 5:30:00 PM            17.25   \n",
            "\n",
            "   TRIP_SECONDS  TRIP_MILES  TRIP_SPEED  PICKUP_CENSUS_TRACT  \\\n",
            "0          2341        2.57         4.0                  NaN   \n",
            "1          1074        1.18         4.0                  NaN   \n",
            "2          1173        1.29         4.0         1.703132e+10   \n",
            "\n",
            "   DROPOFF_CENSUS_TRACT  PICKUP_COMMUNITY_AREA  DROPOFF_COMMUNITY_AREA   FARE  \\\n",
            "0                   NaN                    NaN                    17.0  31.99   \n",
            "1          1.703108e+10                    NaN                     8.0   9.75   \n",
            "2          1.703108e+10                   32.0                     8.0  10.25   \n",
            "\n",
            "   TIPS  TIP_RATE  TOLLS  EXTRAS  TRIP_TOTAL PAYMENT_TYPE    COMPANY  \n",
            "0   2.0       6.3    0.0     0.0       33.99       Mobile  Flash Cab  \n",
            "1   3.0      27.9    0.0     1.0       14.25  Credit Card  Flash Cab  \n",
            "2   0.0       0.0    0.0     0.0       10.25         Cash   Sun Taxi  \n"
          ]
        }
      ]
    }
  ]
}